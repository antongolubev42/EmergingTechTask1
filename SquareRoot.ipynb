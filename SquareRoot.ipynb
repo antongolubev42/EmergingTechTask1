{
 "cells": [
  {
   "cell_type": "markdown",
   "metadata": {},
   "source": [
    "# Task 1: Calculating the square root of two using an original python function\n",
    "***\n",
    "#### Author: Anton Golubev (G00359016)\n"
   ]
  },
  {
   "cell_type": "markdown",
   "metadata": {},
   "source": [
    "The square root of a number can be calculated using Newtons Method [1].\n",
    "\n",
    "In order to find the $z$ of the number $x$ the following equation can be used.\n",
    "\n",
    "$$ z_{next}=z-\\frac{z^2-x}{2z} $$\n",
    "\n",
    "[1] A Tour Of Go; Exercise: Loops and functions https://tour.golang.org/flowcontrol/8\n",
    "[2] Floating Point Arithmetic: Issues and Limitations https://docs.python.org/3.4/tutorial/floatingpoint.html\n",
    "[3]"
   ]
  },
  {
   "cell_type": "markdown",
   "metadata": {},
   "source": [
    "When the square root of a number is a whole number, this number is called a perfect square. 9 is a perfect square because $\\sqrt{9}$ = 3. Not all square roots are whole numbers. Many square roots are irrational numbers, meaning there is no rational number equivalent. This brings us to our task, what is the square root of 2? There is no whole number multiplied by itself that equals two, so $\\sqrt{2}$  is not a whole number. "
   ]
  },
  {
   "cell_type": "markdown",
   "metadata": {},
   "source": [
    "To find the value of non perfect square numbers like $\\sqrt{2}$, we can use \n",
    "### Lets estimate $\\sqrt{2}$\n",
    "\n",
    "This is because there are limitations on floats in python. Floating-point numbers are represented in computer hardware as base 2 (binary) fractions. [2] Because of this, in order to get $\\sqrt{2}$ to 100 decimal places we must use integers instead of floats. This is because Python has built-in support for Arbitrary-precision integers. Since Python 3 there is no longer simple integer type, and all integers are represented as a bignum. [3] \n",
    "\n",
    "So what I'm thinking is to calculate the square root of 20000000000000000000000000000000000000000000000000000000000000000000000000000000000000000000000000000\n",
    "\n",
    "or\n",
    "\n",
    "2 * 10 ** 100\n",
    "\n",
    "This gave me 1.414213562373095e+50 which isn't the intended result\n",
    "\n",
    "\n",
    "\n"
   ]
  },
  {
   "cell_type": "code",
   "execution_count": 50,
   "metadata": {},
   "outputs": [],
   "source": [
    "    \"\"\"\n",
    "    A function to estimate the square root of number x.\n",
    "    \"\"\"\n",
    "#Take a reasonable guess (approximate root) for the square root.\n",
    "def mySqrt(x):\n",
    "    \n",
    "        r = x\n",
    "    \n",
    "        #How precise we want the result to be\n",
    "        #100 decimal places\n",
    "        precision = 10 ** (-10)\n",
    "\n",
    "        # Continue until the difference in the approximate root  is less than the desired value \n",
    "        while abs(x - r * r) > precision:\n",
    "\n",
    "            #Add the approximate root with the original number divided by the approximate root and divide by 2.\n",
    "            r = (r + x / r) / 2\n",
    "\n",
    "        return r"
   ]
  },
  {
   "cell_type": "code",
   "execution_count": 51,
   "metadata": {},
   "outputs": [],
   "source": [
    "def sqrt2():\n",
    "    \n",
    "    x=2\n",
    "    #first guess for sqrt of z\n",
    "    z=x/2\n",
    "    # Loop until satisfied with accuracy of estimate\n",
    "    # While the difference between x and z*z is less than 0.001 keep looping over the function\n",
    "    # This is because z and z*z should be the same \n",
    "    while abs(x-(z*z))>0.000000000001:\n",
    "        #calculate a better guess for the sqrt\n",
    "        z -= (z*z - x) / (2 * z)\n",
    "    #return the approx. sqrt of z\n",
    "    return z"
   ]
  },
  {
   "cell_type": "code",
   "execution_count": 52,
   "metadata": {},
   "outputs": [
    {
     "data": {
      "text/plain": [
       "1.4142135623730951"
      ]
     },
     "execution_count": 52,
     "metadata": {},
     "output_type": "execute_result"
    }
   ],
   "source": [
    "sqrt2()\n"
   ]
  },
  {
   "cell_type": "code",
   "execution_count": 53,
   "metadata": {},
   "outputs": [
    {
     "data": {
      "text/plain": [
       "1.4142135623730951"
      ]
     },
     "execution_count": 53,
     "metadata": {},
     "output_type": "execute_result"
    }
   ],
   "source": [
    "import math \n",
    "math.sqrt(2)\n"
   ]
  },
  {
   "cell_type": "code",
   "execution_count": 54,
   "metadata": {},
   "outputs": [
    {
     "name": "stdout",
     "output_type": "stream",
     "text": [
      "20000000000000000000000000000000000000000000000000000000000000000000000000000000000000000000000000000\n"
     ]
    },
    {
     "data": {
      "text/plain": [
       "1.414213562373095e+50"
      ]
     },
     "execution_count": 54,
     "metadata": {},
     "output_type": "execute_result"
    }
   ],
   "source": [
    "x = 2*10**100\n",
    "\n",
    "\n",
    "\n",
    "print(x)\n",
    "mySqrt(x)"
   ]
  },
  {
   "cell_type": "code",
   "execution_count": null,
   "metadata": {},
   "outputs": [],
   "source": []
  },
  {
   "cell_type": "code",
   "execution_count": null,
   "metadata": {},
   "outputs": [],
   "source": []
  }
 ],
 "metadata": {
  "kernelspec": {
   "display_name": "Python 3",
   "language": "python",
   "name": "python3"
  },
  "language_info": {
   "codemirror_mode": {
    "name": "ipython",
    "version": 3
   },
   "file_extension": ".py",
   "mimetype": "text/x-python",
   "name": "python",
   "nbconvert_exporter": "python",
   "pygments_lexer": "ipython3",
   "version": "3.8.3"
  }
 },
 "nbformat": 4,
 "nbformat_minor": 4
}

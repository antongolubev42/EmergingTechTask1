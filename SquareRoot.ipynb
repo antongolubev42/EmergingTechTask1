{
 "cells": [
  {
   "cell_type": "markdown",
   "metadata": {},
   "source": [
    "# Task 1: Calculating the square root of two using an original python function\n",
    "***\n",
    "#### Author: Anton Golubev (G00359016)\n"
   ]
  },
  {
   "cell_type": "markdown",
   "metadata": {},
   "source": [
    "The square root of a number can be calculated using Newtons Method [1].\n",
    "\n",
    "In order to find the $z$ of the number $x$ the following equation can be used.\n",
    "\n",
    "$$ z_{next}=z-\\frac{z^2-x}{2z} $$\n",
    "\n",
    "[1] A Tour Of Go; Exercise: Loops and functions https://tour.golang.org/flowcontrol/8"
   ]
  },
  {
   "cell_type": "code",
   "execution_count": 1,
   "metadata": {},
   "outputs": [],
   "source": [
    "def sqrt(x):\n",
    "    \"\"\"\n",
    "    A function to estimate the square root of number x.\n",
    "    \"\"\"\n",
    "    #first guess for sqrt of z\n",
    "    z=x/2\n",
    "    # Loop until satisfied with accuracy of estimate\n",
    "    # While the difference between x and z*z is less than 0.001 keep looping over the function\n",
    "    # This is because z and z*z should be the same \n",
    "    while abs(x-(z*z))>0.000000000001:\n",
    "        #calculate a better guess for the sqrt\n",
    "        z -= (z*z - x) / (2 * z)\n",
    "    #return the approx. sqrt of z\n",
    "    return z"
   ]
  },
  {
   "cell_type": "code",
   "execution_count": 2,
   "metadata": {},
   "outputs": [
    {
     "data": {
      "text/plain": [
       "10.0"
      ]
     },
     "execution_count": 2,
     "metadata": {},
     "output_type": "execute_result"
    }
   ],
   "source": [
    "#Test function on 100\n",
    "sqrt(100)"
   ]
  },
  {
   "cell_type": "code",
   "execution_count": 3,
   "metadata": {},
   "outputs": [
    {
     "data": {
      "text/plain": [
       "1.4142135623730951"
      ]
     },
     "execution_count": 3,
     "metadata": {},
     "output_type": "execute_result"
    }
   ],
   "source": [
    "#Test function on 2\n",
    "sqrt(2)"
   ]
  },
  {
   "cell_type": "code",
   "execution_count": 4,
   "metadata": {},
   "outputs": [
    {
     "data": {
      "text/plain": [
       "1.4142135623730951"
      ]
     },
     "execution_count": 4,
     "metadata": {},
     "output_type": "execute_result"
    }
   ],
   "source": [
    "import math \n",
    "math.sqrt(2)"
   ]
  },
  {
   "cell_type": "code",
   "execution_count": null,
   "metadata": {},
   "outputs": [],
   "source": []
  }
 ],
 "metadata": {
  "kernelspec": {
   "display_name": "Python 3",
   "language": "python",
   "name": "python3"
  },
  "language_info": {
   "codemirror_mode": {
    "name": "ipython",
    "version": 3
   },
   "file_extension": ".py",
   "mimetype": "text/x-python",
   "name": "python",
   "nbconvert_exporter": "python",
   "pygments_lexer": "ipython3",
   "version": "3.8.3"
  }
 },
 "nbformat": 4,
 "nbformat_minor": 4
}

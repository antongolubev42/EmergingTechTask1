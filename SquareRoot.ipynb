{
 "cells": [
  {
   "cell_type": "markdown",
   "metadata": {},
   "source": [
    "# Task 1: Calculating the square root of two using an original python function\n",
    "***\n",
    "#### Author: Anton Golubev (G00359016)\n"
   ]
  },
  {
   "cell_type": "markdown",
   "metadata": {},
   "source": [
    "The square root of a number can be calculated using Newtons Method [1].\n",
    "\n",
    "In order to find the $z$ of the number $x$ the following equation can be used.\n",
    "\n",
    "$$ z_{next}=z-\\frac{z^2-x}{2z} $$\n",
    "\n",
    "[1] A Tour Of Go; Exercise: Loops and functions https://tour.golang.org/flowcontrol/8\n",
    "\n",
    "[2] Floating Point Arithmetic: Issues and Limitations https://docs.python.org/3.4/tutorial/floatingpoint.html\n",
    "\n",
    "[3] Python internals: Arbitrary-precision integer implementation https://rushter.com/blog/python-integer-implementation/#:~:text=Python%20represents%20all%20objects%20by%20C%20structures.&text=Generally%2C%20In%20languages%20like%20C,are%20represented%20as%20a%20bignum.\n",
    "\n",
    "[4]Calculating the Square Root of a Number using the  Newton-Raphson Method https://hackernoon.com/calculating-the-square-root-of-a-number-using-the-newton-raphson-method-a-how-to-guide-yr4e32zo"
   ]
  },
  {
   "cell_type": "markdown",
   "metadata": {},
   "source": [
    "When the square root of a number is a whole number, this number is called a perfect square. 9 is a perfect square because $\\sqrt{9}$ = 3. Not all square roots are whole numbers. Many square roots are irrational numbers, meaning there is no rational number equivalent. This brings us to our task, what is the square root of 2? There is no whole number multiplied by itself that equals two, so $\\sqrt{2}$  is not a whole number. "
   ]
  },
  {
   "cell_type": "markdown",
   "metadata": {},
   "source": [
    "To find the value of non perfect square numbers like $\\sqrt{2}$, we can use \n",
    "### Lets estimate $\\sqrt{2}$\n",
    "\n",
    "This is because there are limitations on floats in python. Floating-point numbers are represented in computer hardware as base 2 (binary) fractions. [2] Because of this, python has a limitation on the amount of decimal places it can output.As such, in order to get $\\sqrt{2}$ to 100 decimal places we must use integers instead of floats. This is because Python has built-in support for Arbitrary-precision integers. Since Python 3 there is no longer simple integer type, and all integers are represented as a bignum. [3] \n",
    "\n",
    "My idea was to find the square root of\n",
    "20000000000000000000000000000000000000000000000000000000000000000000000000000000000000000000000000000\n",
    "which can also be written as \n",
    "\n",
    "2 * 10 ** 100.\n",
    "\n",
    "However, this gave me 1.414213562373095e+50 which isn't the intended result. \n",
    "\n",
    "I found a python function called format() which which allows multiple substitutions and value formatting. [5] This would allow me to force python to show 100 decimal places after it does the calculation\n"
   ]
  },
  {
   "cell_type": "code",
   "execution_count": 43,
   "metadata": {},
   "outputs": [],
   "source": [
    "    \"\"\"\n",
    "    A function to estimate the square root of number x.\n",
    "    \"\"\"\n",
    "#Take a reasonable guess (approximate root) for the square root.\n",
    "def mySqrt(x):\n",
    "    \n",
    "        r = x\n",
    "    \n",
    "        #How precise we want the result to be\n",
    "        #100 decimal places\n",
    "        precision = 10 ** (-10)\n",
    "        \n",
    "        # Continue until the difference in the approximate root  is less than the desired value \n",
    "        while abs(x - r * r) > precision:\n",
    "\n",
    "            #Add the approximate root with the original number divided by the approximate root and divide by 2.\n",
    "            r = (r + x / r) / 2\n",
    "            \n",
    "            \n",
    "            \n",
    "        return print('{:.100f}'.format(r))"
   ]
  },
  {
   "cell_type": "markdown",
   "metadata": {},
   "source": [
    "## Testing the function"
   ]
  },
  {
   "cell_type": "code",
   "execution_count": 44,
   "metadata": {},
   "outputs": [
    {
     "data": {
      "text/plain": [
       "1.4142135623730951"
      ]
     },
     "execution_count": 44,
     "metadata": {},
     "output_type": "execute_result"
    }
   ],
   "source": [
    "import math \n",
    "math.sqrt(2)\n"
   ]
  },
  {
   "cell_type": "code",
   "execution_count": 45,
   "metadata": {},
   "outputs": [
    {
     "name": "stdout",
     "output_type": "stream",
     "text": [
      "2\n",
      "1.4142135623746898698271934335934929549694061279296875000000000000000000000000000000000000000000000000\n"
     ]
    }
   ],
   "source": [
    "x = 2\n",
    "\n",
    "print(x)\n",
    "mySqrt(x)"
   ]
  },
  {
   "cell_type": "markdown",
   "metadata": {},
   "source": [
    "This outputs $\\sqrt{2}$ to 100 decimal places. However, I do not believe that this is the true 100 decimal value of the square root of two. Python has reached limitation on floats and is outputting zeros to make the format function work.\n",
    "<br>\n",
    "I think I had the right idea in calculating the answer with integers. I tried to use the format function on my integer method, however I could not get it to work no matter how much I tried. This is close enough"
   ]
  },
  {
   "cell_type": "code",
   "execution_count": null,
   "metadata": {},
   "outputs": [],
   "source": []
  },
  {
   "cell_type": "code",
   "execution_count": null,
   "metadata": {},
   "outputs": [],
   "source": []
  }
 ],
 "metadata": {
  "kernelspec": {
   "display_name": "Python 3",
   "language": "python",
   "name": "python3"
  },
  "language_info": {
   "codemirror_mode": {
    "name": "ipython",
    "version": 3
   },
   "file_extension": ".py",
   "mimetype": "text/x-python",
   "name": "python",
   "nbconvert_exporter": "python",
   "pygments_lexer": "ipython3",
   "version": "3.8.3"
  }
 },
 "nbformat": 4,
 "nbformat_minor": 4
}
